{
 "cells": [
  {
   "cell_type": "markdown",
   "id": "12baa87e",
   "metadata": {},
   "source": [
    "# 📊 CORD-19 Dataset Analysis\n",
    "\n",
    "This notebook performs a basic analysis of the CORD-19 dataset (metadata.csv)."
   ]
  },
  {
   "cell_type": "code",
   "execution_count": null,
   "id": "070aa890",
   "metadata": {},
   "outputs": [],
   "source": [
    "\n",
    "import pandas as pd\n",
    "import matplotlib.pyplot as plt\n",
    "import seaborn as sns\n",
    "from wordcloud import WordCloud\n"
   ]
  },
  {
   "cell_type": "code",
   "execution_count": null,
   "id": "761472d3",
   "metadata": {},
   "outputs": [],
   "source": [
    "\n",
    "# Load dataset (adjust path if needed)\n",
    "df = pd.read_csv(\"../data/metadata.csv\")\n",
    "\n",
    "# Basic info\n",
    "print(df.shape)\n",
    "print(df.info())\n",
    "print(df.isnull().sum().head(10))\n",
    "df.head()\n"
   ]
  },
  {
   "cell_type": "code",
   "execution_count": null,
   "id": "19c29abd",
   "metadata": {},
   "outputs": [],
   "source": [
    "\n",
    "# Drop rows without publish_time or title\n",
    "df = df.dropna(subset=[\"publish_time\", \"title\"])\n",
    "\n",
    "# Convert publish_time to datetime and extract year\n",
    "df[\"publish_time\"] = pd.to_datetime(df[\"publish_time\"], errors=\"coerce\")\n",
    "df[\"year\"] = df[\"publish_time\"].dt.year\n",
    "\n",
    "# Add abstract word count\n",
    "df[\"abstract_word_count\"] = df[\"abstract\"].fillna(\"\").apply(lambda x: len(x.split()))\n",
    "df.head()\n"
   ]
  },
  {
   "cell_type": "code",
   "execution_count": null,
   "id": "09645e6f",
   "metadata": {},
   "outputs": [],
   "source": [
    "\n",
    "# Publications per year\n",
    "year_counts = df[\"year\"].value_counts().sort_index()\n",
    "plt.figure(figsize=(8,5))\n",
    "plt.bar(year_counts.index, year_counts.values)\n",
    "plt.title(\"Publications by Year\")\n",
    "plt.xlabel(\"Year\")\n",
    "plt.ylabel(\"Number of Papers\")\n",
    "plt.show()\n"
   ]
  },
  {
   "cell_type": "code",
   "execution_count": null,
   "id": "dc71d9cb",
   "metadata": {},
   "outputs": [],
   "source": [
    "\n",
    "# Top journals\n",
    "top_journals = df[\"journal\"].value_counts().head(10)\n",
    "plt.figure(figsize=(8,5))\n",
    "sns.barplot(y=top_journals.index, x=top_journals.values)\n",
    "plt.title(\"Top Journals Publishing COVID-19 Research\")\n",
    "plt.xlabel(\"Number of Papers\")\n",
    "plt.ylabel(\"Journal\")\n",
    "plt.show()\n"
   ]
  },
  {
   "cell_type": "code",
   "execution_count": null,
   "id": "efc295f2",
   "metadata": {},
   "outputs": [],
   "source": [
    "\n",
    "# Word cloud from titles\n",
    "text = \" \".join(df[\"title\"].dropna().tolist())\n",
    "wordcloud = WordCloud(width=800, height=400, background_color=\"white\").generate(text)\n",
    "\n",
    "plt.figure(figsize=(10,6))\n",
    "plt.imshow(wordcloud, interpolation=\"bilinear\")\n",
    "plt.axis(\"off\")\n",
    "plt.title(\"Most Common Words in Paper Titles\")\n",
    "plt.show()\n"
   ]
  }
 ],
 "metadata": {},
 "nbformat": 4,
 "nbformat_minor": 5
}
